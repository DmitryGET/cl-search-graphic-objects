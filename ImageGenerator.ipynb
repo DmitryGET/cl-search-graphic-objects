{
 "metadata": {
  "kernelspec": {
   "language": "python",
   "display_name": "Python 3",
   "name": "python3"
  },
  "language_info": {
   "name": "python",
   "version": "3.10.12",
   "mimetype": "text/x-python",
   "codemirror_mode": {
    "name": "ipython",
    "version": 3
   },
   "pygments_lexer": "ipython3",
   "nbconvert_exporter": "python",
   "file_extension": ".py"
  },
  "colab": {
   "provenance": []
  }
 },
 "nbformat_minor": 0,
 "nbformat": 4,
 "cells": [
  {
   "cell_type": "code",
   "execution_count": null,
   "outputs": [],
   "source": [
    "import os\n",
    "import random as rnd\n",
    "import cv2\n",
    "import numpy as np\n",
    "import pandas as pd\n",
    "from urllib.request import urlopen\n",
    "import matplotlib.pyplot as plt"
   ],
   "metadata": {
    "collapsed": false,
    "pycharm": {
     "name": "#%%\n"
    }
   }
  },
  {
   "cell_type": "code",
   "execution_count": null,
   "outputs": [],
   "source": [
    "# TODO Move into config.yaml\n",
    "LOGO_URLS = [\"https://sberdevices.ru/file/5c38bf50-e3f9-4c4e-8649-b773c09d6660/sber-logo.png\",]\n",
    "BG_URLS = [\"https://w.forfun.com/fetch/70/700b81460b8ff6b65af31fd80bda2f7b.jpeg\",]"
   ],
   "metadata": {
    "collapsed": false,
    "pycharm": {
     "name": "#%%\n"
    }
   }
  },
  {
   "cell_type": "code",
   "execution_count": null,
   "outputs": [],
   "source": [
    "SAMPLE_INDEX = 0"
   ],
   "metadata": {
    "collapsed": false,
    "pycharm": {
     "name": "#%%\n"
    }
   }
  },
  {
   "cell_type": "code",
   "execution_count": null,
   "outputs": [],
   "source": [
    "class ImageHolder:\n",
    "    def __init__(self):\n",
    "        self.logo_index = 0\n",
    "        self.bg_index = 0\n",
    "        self.logos = list()\n",
    "        self.bgs = list()\n",
    "\n",
    "    def save_image_from_url(self, url: str, im_type: bool) -> None:\n",
    "        arr = np.asarray(bytearray(urlopen(url).read()), dtype=np.uint8)\n",
    "        img = cv2.imdecode(arr, -1)\n",
    "        name = f\"bg/sample_{self.bg_index}.png\" if im_type else f\"lg/sample_{self.logo_index}.png\"\n",
    "        cv2.imwrite(name, img)\n",
    "        if im_type:\n",
    "            self.bgs.append(cv2.imread(name))\n",
    "        else:\n",
    "            self.logos.append(cv2.imread(name))\n",
    "\n",
    "    def download_and_save_from_config(self):\n",
    "        os.makedirs(\"bg\", exist_ok=True)\n",
    "        os.makedirs(\"lg\", exist_ok=True)\n",
    "        for i in LOGO_URLS:\n",
    "            self.save_image_from_url(i, False)\n",
    "            self.logo_index += 1\n",
    "        for i in BG_URLS:\n",
    "            self.save_image_from_url(i, True)\n",
    "            self.bg_index += 1"
   ],
   "metadata": {
    "collapsed": false,
    "pycharm": {
     "name": "#%%\n"
    }
   }
  },
  {
   "cell_type": "code",
   "execution_count": null,
   "outputs": [],
   "source": [
    "holder = ImageHolder()\n",
    "holder.download_and_save_from_config()"
   ],
   "metadata": {
    "collapsed": false,
    "pycharm": {
     "name": "#%%\n"
    }
   }
  },
  {
   "cell_type": "code",
   "execution_count": null,
   "outputs": [],
   "source": [
    "class ImageGenerator:\n",
    "    def __init__(self, logo: np.array, samples_count: int):\n",
    "        self.logo = logo\n",
    "        self.samples_count = samples_count\n",
    "        self.resized_logos = list()\n",
    "\n",
    "    def main(self):\n",
    "        global SAMPLE_INDEX\n",
    "        os.makedirs(\"sm\", exist_ok=True)\n",
    "        for i in range(self.samples_count):\n",
    "            scale = rnd.randint(3, 10)\n",
    "            dim = (int(self.logo.shape[1]/scale),int(self.logo.shape[0]/scale))\n",
    "            self.resized_logos.append(cv2.resize(self.logo, dim, interpolation = cv2.INTER_AREA))\n",
    "        for i in self.resized_logos:\n",
    "            bg = rnd.choice(holder.bgs)\n",
    "            roi = self.make_logo_roi(i, np.copy(bg))\n",
    "            self.make_sample(np.copy(bg), roi, f\"sample_{SAMPLE_INDEX}\")\n",
    "            SAMPLE_INDEX += 1\n",
    "\n",
    "    @staticmethod\n",
    "    def make_logo_roi(logo: np.array, bg: np.array) -> tuple:\n",
    "        x_offset, y_offset = rnd.randint(0, bg.shape[1] - logo.shape[1]), rnd.randint(0, bg.shape[0] - logo.shape[0])\n",
    "        x_end, y_end = (x_offset + logo.shape[1], y_offset + logo.shape[0])\n",
    "        roi = bg[y_offset:y_offset+logo.shape[0], x_offset:x_offset+logo.shape[1]]\n",
    "\n",
    "        logo_gray = cv2.cvtColor(logo, cv2.COLOR_RGB2GRAY)\n",
    "        ret, mask = cv2.threshold(logo_gray, 127, 255, cv2.THRESH_BINARY+cv2.THRESH_OTSU)\n",
    "\n",
    "        temp_bg = cv2.bitwise_or(roi,roi,mask = mask)\n",
    "        mask_inv = cv2.bitwise_not(logo_gray)\n",
    "        fg = cv2.bitwise_and(logo,logo, mask=mask_inv)\n",
    "        final_roi = cv2.add(temp_bg,fg)\n",
    "\n",
    "        return y_offset, y_end, x_offset, x_end, final_roi\n",
    "\n",
    "    @staticmethod\n",
    "    def make_sample(bg: np.array, roi: tuple, save_path: str) -> None:\n",
    "        bg[roi[0] : roi[1], roi[2] : roi[3]]= roi[4]\n",
    "        label = open(f\"sm/{save_path}.txt\", \"w+\")\n",
    "        x_center = ((roi[2] + roi[3]) / 2) / bg.shape[1]\n",
    "        y_center = ((roi[0] + roi[1]) / 2) / bg.shape[0]\n",
    "        norm_width = (roi[3] - roi[2]) / bg.shape[1]\n",
    "        norm_height = (roi[1] - roi[0]) / bg.shape[0]\n",
    "        label.write(f\"0 {x_center} {y_center} {norm_width} {norm_height}\\n\")\n",
    "        label.close()\n",
    "\n",
    "        cv2.imwrite(f\"sm/{save_path}.png\", bg)\n",
    "\n"
   ],
   "metadata": {
    "collapsed": false,
    "pycharm": {
     "name": "#%%\n"
    }
   }
  },
  {
   "cell_type": "code",
   "execution_count": null,
   "outputs": [],
   "source": [
    "generator = ImageGenerator(holder.logos[0], 4)\n",
    "generator.main()"
   ],
   "metadata": {
    "collapsed": false,
    "pycharm": {
     "name": "#%%\n"
    }
   }
  }
 ]
}